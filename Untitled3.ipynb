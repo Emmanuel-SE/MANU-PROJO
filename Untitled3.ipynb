{
  "nbformat": 4,
  "nbformat_minor": 0,
  "metadata": {
    "colab": {
      "name": "Untitled3.ipynb",
      "private_outputs": true,
      "provenance": [],
      "authorship_tag": "ABX9TyMV9HB/nrjtha+/0rwoNI/E",
      "include_colab_link": true
    },
    "kernelspec": {
      "name": "python3",
      "display_name": "Python 3"
    },
    "language_info": {
      "name": "python"
    },
    "accelerator": "GPU"
  },
  "cells": [
    {
      "cell_type": "markdown",
      "metadata": {
        "id": "view-in-github",
        "colab_type": "text"
      },
      "source": [
        "<a href=\"https://colab.research.google.com/github/Tyty-manu/MANU-PROJO/blob/main/Untitled3.ipynb\" target=\"_parent\"><img src=\"https://colab.research.google.com/assets/colab-badge.svg\" alt=\"Open In Colab\"/></a>"
      ]
    },
    {
      "cell_type": "code",
      "metadata": {
        "id": "PuZV9F9DPF28"
      },
      "source": [
        "# Let's import the pandas library\n",
        "import pandas as pd\n",
        "# as well as the Numpy library\n",
        "import numpy as np\n",
        "import glob"
      ],
      "execution_count": null,
      "outputs": []
    },
    {
      "cell_type": "code",
      "metadata": {
        "id": "qgHOsCJt3p6w"
      },
      "source": [
        "td1 = pd.read_csv('Telcom_dataset.csv')\n",
        "td2= pd.read_csv('Telcom_dataset2.csv')\n",
        "td3= pd.read_csv('Telcom_dataset3.csv')\n",
        "res = pd.concat([td1, td2, td3])\n",
        "res\n"
      ],
      "execution_count": null,
      "outputs": []
    },
    {
      "cell_type": "code",
      "metadata": {
        "id": "KGBe82ak9ee5"
      },
      "source": [
        "res2=pd.read_csv('cells_geo.csv')\n",
        "pd.merge(res, res2, on='CELL_ID')\n",
        "res_prime\n"
      ],
      "execution_count": null,
      "outputs": []
    }
  ]
}